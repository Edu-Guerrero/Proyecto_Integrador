{
 "cells": [
  {
   "cell_type": "code",
   "execution_count": 1,
   "metadata": {},
   "outputs": [],
   "source": [
    "import zipfile\n",
    "\n",
    "with zipfile.ZipFile('my_folders.zip', 'r') as zip_ref:\n",
    "    zip_ref.extractall('extracted_folders')"
   ]
  },
  {
   "cell_type": "code",
   "execution_count": 12,
   "metadata": {},
   "outputs": [],
   "source": [
    "# Iterate through the extracted folders\n",
    "for root, dirs, files in os.walk('extracted_folders'):\n",
    "    for dir in dirs:\n",
    "        dir_path = os.path.join(root, dir)\n",
    "        if not os.listdir(dir_path):  # Check if the directory is empty\n",
    "            print(f\"Empty folder: {dir_path}\")"
   ]
  },
  {
   "cell_type": "code",
   "execution_count": 26,
   "metadata": {},
   "outputs": [
    {
     "name": "stdout",
     "output_type": "stream",
     "text": [
      "['all_in_one', 'all_in_one_spanish', 'mmr_one', 'mmr_one_mini', 'mmr_one_spanish', 'mmr_two', 'mmr_two_mini', 'mmr_two_spanish', 'simple_one', 'simple_one_mini', 'simple_one_spanish']\n"
     ]
    }
   ],
   "source": [
    "folders = [f for f in os.listdir('extracted_folders/content') if os.path.isdir(os.path.join('extracted_folders/content', f))]\n",
    "print(folders)"
   ]
  },
  {
   "cell_type": "code",
   "execution_count": 31,
   "metadata": {},
   "outputs": [],
   "source": [
    "import os\n",
    "import pandas as pd\n",
    "\n",
    "def aggregate_scores(folder_path):\n",
    "    # Initialize an empty DataFrame to store the aggregated results\n",
    "    aggregated_df = pd.DataFrame(columns=['Keyword', 'Score'])\n",
    "    \n",
    "    # Iterate through all files in the folder\n",
    "    for root, dirs, files in os.walk(folder_path):\n",
    "        for file in files:\n",
    "            if file.endswith('.csv'):\n",
    "                file_path = os.path.join(root, file)\n",
    "                df = pd.read_csv(file_path)\n",
    "                \n",
    "                # Check if the DataFrame is not empty\n",
    "                if not df.empty:\n",
    "                    # Aggregate the scores\n",
    "                    aggregated_df = pd.concat([aggregated_df, df])\n",
    "    \n",
    "    # Group by 'Keyword' and sum the 'Score'\n",
    "    final_df = aggregated_df.groupby('Keyword', as_index=False).sum()\n",
    "    \n",
    "    # Sort the final DataFrame by 'Score' in descending order\n",
    "    final_df = final_df.sort_values(by='Score', ascending=False)\n",
    "    \n",
    "    # Create the final output file name\n",
    "    folder_name = os.path.basename(folder_path)\n",
    "    output_file = f'final_{folder_name}.csv'\n",
    "    \n",
    "    # Save the final DataFrame to a new .csv file\n",
    "    output_folder = 'final_keywords'\n",
    "    os.makedirs(output_folder, exist_ok=True)\n",
    "    final_df.to_csv(os.path.join(output_folder, output_file), index=False)\n",
    "    print(f\"Aggregated scores saved to {output_file}\")"
   ]
  },
  {
   "cell_type": "code",
   "execution_count": 32,
   "metadata": {},
   "outputs": [
    {
     "name": "stderr",
     "output_type": "stream",
     "text": [
      "C:\\Users\\NICO\\AppData\\Local\\Temp\\ipykernel_4756\\2227862257.py:18: FutureWarning: The behavior of DataFrame concatenation with empty or all-NA entries is deprecated. In a future version, this will no longer exclude empty or all-NA columns when determining the result dtypes. To retain the old behavior, exclude the relevant entries before the concat operation.\n",
      "  aggregated_df = pd.concat([aggregated_df, df])\n"
     ]
    },
    {
     "name": "stdout",
     "output_type": "stream",
     "text": [
      "Aggregated scores saved to final_mmr_one.csv\n"
     ]
    },
    {
     "name": "stderr",
     "output_type": "stream",
     "text": [
      "C:\\Users\\NICO\\AppData\\Local\\Temp\\ipykernel_4756\\2227862257.py:18: FutureWarning: The behavior of DataFrame concatenation with empty or all-NA entries is deprecated. In a future version, this will no longer exclude empty or all-NA columns when determining the result dtypes. To retain the old behavior, exclude the relevant entries before the concat operation.\n",
      "  aggregated_df = pd.concat([aggregated_df, df])\n"
     ]
    },
    {
     "name": "stdout",
     "output_type": "stream",
     "text": [
      "Aggregated scores saved to final_mmr_one_mini.csv\n"
     ]
    },
    {
     "name": "stderr",
     "output_type": "stream",
     "text": [
      "C:\\Users\\NICO\\AppData\\Local\\Temp\\ipykernel_4756\\2227862257.py:18: FutureWarning: The behavior of DataFrame concatenation with empty or all-NA entries is deprecated. In a future version, this will no longer exclude empty or all-NA columns when determining the result dtypes. To retain the old behavior, exclude the relevant entries before the concat operation.\n",
      "  aggregated_df = pd.concat([aggregated_df, df])\n"
     ]
    },
    {
     "name": "stdout",
     "output_type": "stream",
     "text": [
      "Aggregated scores saved to final_mmr_one_spanish.csv\n"
     ]
    },
    {
     "name": "stderr",
     "output_type": "stream",
     "text": [
      "C:\\Users\\NICO\\AppData\\Local\\Temp\\ipykernel_4756\\2227862257.py:18: FutureWarning: The behavior of DataFrame concatenation with empty or all-NA entries is deprecated. In a future version, this will no longer exclude empty or all-NA columns when determining the result dtypes. To retain the old behavior, exclude the relevant entries before the concat operation.\n",
      "  aggregated_df = pd.concat([aggregated_df, df])\n"
     ]
    },
    {
     "name": "stdout",
     "output_type": "stream",
     "text": [
      "Aggregated scores saved to final_mmr_two.csv\n"
     ]
    },
    {
     "name": "stderr",
     "output_type": "stream",
     "text": [
      "C:\\Users\\NICO\\AppData\\Local\\Temp\\ipykernel_4756\\2227862257.py:18: FutureWarning: The behavior of DataFrame concatenation with empty or all-NA entries is deprecated. In a future version, this will no longer exclude empty or all-NA columns when determining the result dtypes. To retain the old behavior, exclude the relevant entries before the concat operation.\n",
      "  aggregated_df = pd.concat([aggregated_df, df])\n"
     ]
    },
    {
     "name": "stdout",
     "output_type": "stream",
     "text": [
      "Aggregated scores saved to final_mmr_two_mini.csv\n"
     ]
    },
    {
     "name": "stderr",
     "output_type": "stream",
     "text": [
      "C:\\Users\\NICO\\AppData\\Local\\Temp\\ipykernel_4756\\2227862257.py:18: FutureWarning: The behavior of DataFrame concatenation with empty or all-NA entries is deprecated. In a future version, this will no longer exclude empty or all-NA columns when determining the result dtypes. To retain the old behavior, exclude the relevant entries before the concat operation.\n",
      "  aggregated_df = pd.concat([aggregated_df, df])\n"
     ]
    },
    {
     "name": "stdout",
     "output_type": "stream",
     "text": [
      "Aggregated scores saved to final_mmr_two_spanish.csv\n"
     ]
    },
    {
     "name": "stderr",
     "output_type": "stream",
     "text": [
      "C:\\Users\\NICO\\AppData\\Local\\Temp\\ipykernel_4756\\2227862257.py:18: FutureWarning: The behavior of DataFrame concatenation with empty or all-NA entries is deprecated. In a future version, this will no longer exclude empty or all-NA columns when determining the result dtypes. To retain the old behavior, exclude the relevant entries before the concat operation.\n",
      "  aggregated_df = pd.concat([aggregated_df, df])\n"
     ]
    },
    {
     "name": "stdout",
     "output_type": "stream",
     "text": [
      "Aggregated scores saved to final_simple_one.csv\n"
     ]
    },
    {
     "name": "stderr",
     "output_type": "stream",
     "text": [
      "C:\\Users\\NICO\\AppData\\Local\\Temp\\ipykernel_4756\\2227862257.py:18: FutureWarning: The behavior of DataFrame concatenation with empty or all-NA entries is deprecated. In a future version, this will no longer exclude empty or all-NA columns when determining the result dtypes. To retain the old behavior, exclude the relevant entries before the concat operation.\n",
      "  aggregated_df = pd.concat([aggregated_df, df])\n"
     ]
    },
    {
     "name": "stdout",
     "output_type": "stream",
     "text": [
      "Aggregated scores saved to final_simple_one_mini.csv\n"
     ]
    },
    {
     "name": "stderr",
     "output_type": "stream",
     "text": [
      "C:\\Users\\NICO\\AppData\\Local\\Temp\\ipykernel_4756\\2227862257.py:18: FutureWarning: The behavior of DataFrame concatenation with empty or all-NA entries is deprecated. In a future version, this will no longer exclude empty or all-NA columns when determining the result dtypes. To retain the old behavior, exclude the relevant entries before the concat operation.\n",
      "  aggregated_df = pd.concat([aggregated_df, df])\n"
     ]
    },
    {
     "name": "stdout",
     "output_type": "stream",
     "text": [
      "Aggregated scores saved to final_simple_one_spanish.csv\n"
     ]
    }
   ],
   "source": [
    "for folder in folders:\n",
    "    if folder == 'all_in_one' or folder == 'all_in_one_spanish':\n",
    "        continue\n",
    "    folder_path = os.path.join('extracted_folders/content', folder)\n",
    "    aggregate_scores(folder_path)"
   ]
  },
  {
   "cell_type": "code",
   "execution_count": 33,
   "metadata": {},
   "outputs": [
    {
     "name": "stdout",
     "output_type": "stream",
     "text": [
      "Aggregated scores saved to final_final_keywords.csv\n"
     ]
    },
    {
     "name": "stderr",
     "output_type": "stream",
     "text": [
      "C:\\Users\\NICO\\AppData\\Local\\Temp\\ipykernel_4756\\2227862257.py:18: FutureWarning: The behavior of DataFrame concatenation with empty or all-NA entries is deprecated. In a future version, this will no longer exclude empty or all-NA columns when determining the result dtypes. To retain the old behavior, exclude the relevant entries before the concat operation.\n",
      "  aggregated_df = pd.concat([aggregated_df, df])\n"
     ]
    }
   ],
   "source": [
    "aggregate_scores('final_keywords')"
   ]
  },
  {
   "cell_type": "code",
   "execution_count": 37,
   "metadata": {},
   "outputs": [
    {
     "name": "stdout",
     "output_type": "stream",
     "text": [
      "Aggregated scores saved to final_all_in_one_spanish.csv\n"
     ]
    },
    {
     "name": "stderr",
     "output_type": "stream",
     "text": [
      "C:\\Users\\NICO\\AppData\\Local\\Temp\\ipykernel_4756\\2227862257.py:18: FutureWarning: The behavior of DataFrame concatenation with empty or all-NA entries is deprecated. In a future version, this will no longer exclude empty or all-NA columns when determining the result dtypes. To retain the old behavior, exclude the relevant entries before the concat operation.\n",
      "  aggregated_df = pd.concat([aggregated_df, df])\n"
     ]
    }
   ],
   "source": [
    "aggregate_scores('extracted_folders/content/all_in_one_spanish')"
   ]
  }
 ],
 "metadata": {
  "kernelspec": {
   "display_name": "Python 3",
   "language": "python",
   "name": "python3"
  },
  "language_info": {
   "codemirror_mode": {
    "name": "ipython",
    "version": 3
   },
   "file_extension": ".py",
   "mimetype": "text/x-python",
   "name": "python",
   "nbconvert_exporter": "python",
   "pygments_lexer": "ipython3",
   "version": "3.11.5"
  }
 },
 "nbformat": 4,
 "nbformat_minor": 2
}
